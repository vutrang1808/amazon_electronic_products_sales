{
 "cells": [
  {
   "cell_type": "markdown",
   "metadata": {},
   "source": [
    "# Project: Amazon Electronics Products Sales\n",
    "\n",
    "This notebook demonstrates a comprehensive sales analysis of an Amazon electronics products dataset with dimensions 1.3M x 10. The solution is implemented in `Python`, leveraging `Pandas` for data manipulation and `Matplotlib` for visualization.\n",
    "\n",
    "The analysis aims to address the following questions:\n",
    "1. What are the categories of electronic products?\n",
    "2. Find the Top-10 users that bought the most in each category.\n",
    "3. Analyze sales in a certain year, grouped by categories.\n",
    "4. Given a brand, identify the categories in which it has products.\n",
    "5. Determine the categories with the highest market competition.\n",
    "\n",
    "## **Approach**\n",
    "\n",
    "A logical and systematic approach is followed throughout the analysis, with each step accompanied by insights into the dataset. Key observations include:\n",
    "- **Timestamp Accuracy:** Inconsistencies between the `timestamp` and `year` columns are observed, and thus decided to use the `timestamp` as the time reference for each purchase.\n",
    "- **Data Completeness:** A significant proportion of rows (97%) contain NaN values in either the `brand` or `user_attr` columns, leading to the exclusion of these columns from some analyses due to their limited utility.\n",
    "\n",
    "## **Dataset Details**\n",
    "\n",
    "The dataset encompasses Amazon electronics sales data spanning from 1999 to 2018. It is available on [Kaggle](https://www.kaggle.com/datasets/edusanketdk/electronics/data).\n",
    "\n",
    "## **Gained Insights**\n",
    "\n",
    "1. **Categories of Electronic Products:**\n",
    "        Identified the unique categories of products available in the dataset.\n",
    "\n",
    "2. **Top-10 Users per Category:**\n",
    "        Determined the top 10 users who purchased the most in each category.\n",
    "\n",
    "3. **Yearly Sales Grouped by Categories:**\n",
    "        Analyzed and visualized sales data for specific years, grouped by product categories.\n",
    "\n",
    "4. **Brand-wise Product Categories:**\n",
    "        For each brand, identified the categories in which its products are listed.\n",
    "\n",
    "5. **Market Competition Analysis:**\n",
    "        Determined which categories have the highest market competition based on the number of unique brands."
   ]
  },
  {
   "cell_type": "markdown",
   "metadata": {},
   "source": [
    "## Setup"
   ]
  },
  {
   "cell_type": "code",
   "execution_count": 1,
   "metadata": {},
   "outputs": [],
   "source": [
    "import numpy as np\n",
    "import pandas as pd\n",
    "import matplotlib.pyplot as plt\n",
    "\n",
    "#Direct input \n",
    "#plt.rcParams['text.latex.preamble']=[r\"\\usepackage{lmodern}\"]\n",
    "#Options\n",
    "params = {'text.usetex' : True,\n",
    "          'font.size' : 12,\n",
    "          'font.family' : 'lmodern',\n",
    "          }\n",
    "plt.rcParams.update(params) "
   ]
  },
  {
   "cell_type": "code",
   "execution_count": 2,
   "metadata": {},
   "outputs": [],
   "source": [
    "df = pd.read_csv('./electronics.csv')"
   ]
  },
  {
   "cell_type": "code",
   "execution_count": 3,
   "metadata": {},
   "outputs": [
    {
     "data": {
      "text/html": [
       "<div>\n",
       "<style scoped>\n",
       "    .dataframe tbody tr th:only-of-type {\n",
       "        vertical-align: middle;\n",
       "    }\n",
       "\n",
       "    .dataframe tbody tr th {\n",
       "        vertical-align: top;\n",
       "    }\n",
       "\n",
       "    .dataframe thead th {\n",
       "        text-align: right;\n",
       "    }\n",
       "</style>\n",
       "<table border=\"1\" class=\"dataframe\">\n",
       "  <thead>\n",
       "    <tr style=\"text-align: right;\">\n",
       "      <th></th>\n",
       "      <th>item_id</th>\n",
       "      <th>user_id</th>\n",
       "      <th>rating</th>\n",
       "      <th>timestamp</th>\n",
       "      <th>model_attr</th>\n",
       "      <th>category</th>\n",
       "      <th>brand</th>\n",
       "      <th>year</th>\n",
       "      <th>user_attr</th>\n",
       "      <th>split</th>\n",
       "    </tr>\n",
       "  </thead>\n",
       "  <tbody>\n",
       "    <tr>\n",
       "      <th>0</th>\n",
       "      <td>0</td>\n",
       "      <td>0</td>\n",
       "      <td>5.0</td>\n",
       "      <td>1999-06-13</td>\n",
       "      <td>Female</td>\n",
       "      <td>Portable Audio &amp; Video</td>\n",
       "      <td>NaN</td>\n",
       "      <td>1999</td>\n",
       "      <td>NaN</td>\n",
       "      <td>0</td>\n",
       "    </tr>\n",
       "    <tr>\n",
       "      <th>1</th>\n",
       "      <td>0</td>\n",
       "      <td>1</td>\n",
       "      <td>5.0</td>\n",
       "      <td>1999-06-14</td>\n",
       "      <td>Female</td>\n",
       "      <td>Portable Audio &amp; Video</td>\n",
       "      <td>NaN</td>\n",
       "      <td>1999</td>\n",
       "      <td>NaN</td>\n",
       "      <td>0</td>\n",
       "    </tr>\n",
       "    <tr>\n",
       "      <th>2</th>\n",
       "      <td>0</td>\n",
       "      <td>2</td>\n",
       "      <td>3.0</td>\n",
       "      <td>1999-06-17</td>\n",
       "      <td>Female</td>\n",
       "      <td>Portable Audio &amp; Video</td>\n",
       "      <td>NaN</td>\n",
       "      <td>1999</td>\n",
       "      <td>NaN</td>\n",
       "      <td>0</td>\n",
       "    </tr>\n",
       "    <tr>\n",
       "      <th>3</th>\n",
       "      <td>0</td>\n",
       "      <td>3</td>\n",
       "      <td>1.0</td>\n",
       "      <td>1999-07-01</td>\n",
       "      <td>Female</td>\n",
       "      <td>Portable Audio &amp; Video</td>\n",
       "      <td>NaN</td>\n",
       "      <td>1999</td>\n",
       "      <td>NaN</td>\n",
       "      <td>0</td>\n",
       "    </tr>\n",
       "    <tr>\n",
       "      <th>4</th>\n",
       "      <td>0</td>\n",
       "      <td>4</td>\n",
       "      <td>2.0</td>\n",
       "      <td>1999-07-06</td>\n",
       "      <td>Female</td>\n",
       "      <td>Portable Audio &amp; Video</td>\n",
       "      <td>NaN</td>\n",
       "      <td>1999</td>\n",
       "      <td>NaN</td>\n",
       "      <td>0</td>\n",
       "    </tr>\n",
       "    <tr>\n",
       "      <th>...</th>\n",
       "      <td>...</td>\n",
       "      <td>...</td>\n",
       "      <td>...</td>\n",
       "      <td>...</td>\n",
       "      <td>...</td>\n",
       "      <td>...</td>\n",
       "      <td>...</td>\n",
       "      <td>...</td>\n",
       "      <td>...</td>\n",
       "      <td>...</td>\n",
       "    </tr>\n",
       "    <tr>\n",
       "      <th>1292949</th>\n",
       "      <td>9478</td>\n",
       "      <td>1157628</td>\n",
       "      <td>1.0</td>\n",
       "      <td>2018-09-26</td>\n",
       "      <td>Female</td>\n",
       "      <td>Headphones</td>\n",
       "      <td>Etre Jeune</td>\n",
       "      <td>2017</td>\n",
       "      <td>NaN</td>\n",
       "      <td>0</td>\n",
       "    </tr>\n",
       "    <tr>\n",
       "      <th>1292950</th>\n",
       "      <td>9435</td>\n",
       "      <td>1157629</td>\n",
       "      <td>5.0</td>\n",
       "      <td>2018-09-26</td>\n",
       "      <td>Female</td>\n",
       "      <td>Computers &amp; Accessories</td>\n",
       "      <td>NaN</td>\n",
       "      <td>2017</td>\n",
       "      <td>NaN</td>\n",
       "      <td>0</td>\n",
       "    </tr>\n",
       "    <tr>\n",
       "      <th>1292951</th>\n",
       "      <td>9305</td>\n",
       "      <td>1157630</td>\n",
       "      <td>3.0</td>\n",
       "      <td>2018-09-26</td>\n",
       "      <td>Female</td>\n",
       "      <td>Computers &amp; Accessories</td>\n",
       "      <td>NaN</td>\n",
       "      <td>2016</td>\n",
       "      <td>NaN</td>\n",
       "      <td>0</td>\n",
       "    </tr>\n",
       "    <tr>\n",
       "      <th>1292952</th>\n",
       "      <td>9303</td>\n",
       "      <td>1157631</td>\n",
       "      <td>5.0</td>\n",
       "      <td>2018-09-29</td>\n",
       "      <td>Male</td>\n",
       "      <td>Headphones</td>\n",
       "      <td>NaN</td>\n",
       "      <td>2018</td>\n",
       "      <td>NaN</td>\n",
       "      <td>0</td>\n",
       "    </tr>\n",
       "    <tr>\n",
       "      <th>1292953</th>\n",
       "      <td>9478</td>\n",
       "      <td>1157632</td>\n",
       "      <td>1.0</td>\n",
       "      <td>2018-10-01</td>\n",
       "      <td>Female</td>\n",
       "      <td>Headphones</td>\n",
       "      <td>Etre Jeune</td>\n",
       "      <td>2017</td>\n",
       "      <td>Female</td>\n",
       "      <td>0</td>\n",
       "    </tr>\n",
       "  </tbody>\n",
       "</table>\n",
       "<p>1292954 rows × 10 columns</p>\n",
       "</div>"
      ],
      "text/plain": [
       "         item_id  user_id  rating   timestamp model_attr  \\\n",
       "0              0        0     5.0  1999-06-13     Female   \n",
       "1              0        1     5.0  1999-06-14     Female   \n",
       "2              0        2     3.0  1999-06-17     Female   \n",
       "3              0        3     1.0  1999-07-01     Female   \n",
       "4              0        4     2.0  1999-07-06     Female   \n",
       "...          ...      ...     ...         ...        ...   \n",
       "1292949     9478  1157628     1.0  2018-09-26     Female   \n",
       "1292950     9435  1157629     5.0  2018-09-26     Female   \n",
       "1292951     9305  1157630     3.0  2018-09-26     Female   \n",
       "1292952     9303  1157631     5.0  2018-09-29       Male   \n",
       "1292953     9478  1157632     1.0  2018-10-01     Female   \n",
       "\n",
       "                        category       brand  year user_attr  split  \n",
       "0         Portable Audio & Video         NaN  1999       NaN      0  \n",
       "1         Portable Audio & Video         NaN  1999       NaN      0  \n",
       "2         Portable Audio & Video         NaN  1999       NaN      0  \n",
       "3         Portable Audio & Video         NaN  1999       NaN      0  \n",
       "4         Portable Audio & Video         NaN  1999       NaN      0  \n",
       "...                          ...         ...   ...       ...    ...  \n",
       "1292949               Headphones  Etre Jeune  2017       NaN      0  \n",
       "1292950  Computers & Accessories         NaN  2017       NaN      0  \n",
       "1292951  Computers & Accessories         NaN  2016       NaN      0  \n",
       "1292952               Headphones         NaN  2018       NaN      0  \n",
       "1292953               Headphones  Etre Jeune  2017    Female      0  \n",
       "\n",
       "[1292954 rows x 10 columns]"
      ]
     },
     "execution_count": 3,
     "metadata": {},
     "output_type": "execute_result"
    }
   ],
   "source": [
    "df"
   ]
  },
  {
   "cell_type": "markdown",
   "metadata": {},
   "source": [
    "## Dealing with Nans"
   ]
  },
  {
   "cell_type": "code",
   "execution_count": 4,
   "metadata": {},
   "outputs": [],
   "source": [
    "# Define a predicate\n",
    "def is_brand_or_user_attr_nan(brand, user_attr):\n",
    "    return pd.isna(brand) or pd.isna(user_attr)"
   ]
  },
  {
   "cell_type": "code",
   "execution_count": 5,
   "metadata": {},
   "outputs": [],
   "source": [
    "# No of rows with Nans in brand OR user_attr\n",
    "nan_rows = df[df[['brand', 'user_attr']].apply(lambda x: is_brand_or_user_attr_nan(*x), axis = 1)]"
   ]
  },
  {
   "cell_type": "code",
   "execution_count": 6,
   "metadata": {},
   "outputs": [
    {
     "data": {
      "text/html": [
       "<div>\n",
       "<style scoped>\n",
       "    .dataframe tbody tr th:only-of-type {\n",
       "        vertical-align: middle;\n",
       "    }\n",
       "\n",
       "    .dataframe tbody tr th {\n",
       "        vertical-align: top;\n",
       "    }\n",
       "\n",
       "    .dataframe thead th {\n",
       "        text-align: right;\n",
       "    }\n",
       "</style>\n",
       "<table border=\"1\" class=\"dataframe\">\n",
       "  <thead>\n",
       "    <tr style=\"text-align: right;\">\n",
       "      <th></th>\n",
       "      <th>item_id</th>\n",
       "      <th>user_id</th>\n",
       "      <th>rating</th>\n",
       "      <th>timestamp</th>\n",
       "      <th>model_attr</th>\n",
       "      <th>category</th>\n",
       "      <th>brand</th>\n",
       "      <th>year</th>\n",
       "      <th>user_attr</th>\n",
       "      <th>split</th>\n",
       "    </tr>\n",
       "  </thead>\n",
       "  <tbody>\n",
       "    <tr>\n",
       "      <th>0</th>\n",
       "      <td>0</td>\n",
       "      <td>0</td>\n",
       "      <td>5.0</td>\n",
       "      <td>1999-06-13</td>\n",
       "      <td>Female</td>\n",
       "      <td>Portable Audio &amp; Video</td>\n",
       "      <td>NaN</td>\n",
       "      <td>1999</td>\n",
       "      <td>NaN</td>\n",
       "      <td>0</td>\n",
       "    </tr>\n",
       "    <tr>\n",
       "      <th>1</th>\n",
       "      <td>0</td>\n",
       "      <td>1</td>\n",
       "      <td>5.0</td>\n",
       "      <td>1999-06-14</td>\n",
       "      <td>Female</td>\n",
       "      <td>Portable Audio &amp; Video</td>\n",
       "      <td>NaN</td>\n",
       "      <td>1999</td>\n",
       "      <td>NaN</td>\n",
       "      <td>0</td>\n",
       "    </tr>\n",
       "    <tr>\n",
       "      <th>2</th>\n",
       "      <td>0</td>\n",
       "      <td>2</td>\n",
       "      <td>3.0</td>\n",
       "      <td>1999-06-17</td>\n",
       "      <td>Female</td>\n",
       "      <td>Portable Audio &amp; Video</td>\n",
       "      <td>NaN</td>\n",
       "      <td>1999</td>\n",
       "      <td>NaN</td>\n",
       "      <td>0</td>\n",
       "    </tr>\n",
       "    <tr>\n",
       "      <th>3</th>\n",
       "      <td>0</td>\n",
       "      <td>3</td>\n",
       "      <td>1.0</td>\n",
       "      <td>1999-07-01</td>\n",
       "      <td>Female</td>\n",
       "      <td>Portable Audio &amp; Video</td>\n",
       "      <td>NaN</td>\n",
       "      <td>1999</td>\n",
       "      <td>NaN</td>\n",
       "      <td>0</td>\n",
       "    </tr>\n",
       "    <tr>\n",
       "      <th>4</th>\n",
       "      <td>0</td>\n",
       "      <td>4</td>\n",
       "      <td>2.0</td>\n",
       "      <td>1999-07-06</td>\n",
       "      <td>Female</td>\n",
       "      <td>Portable Audio &amp; Video</td>\n",
       "      <td>NaN</td>\n",
       "      <td>1999</td>\n",
       "      <td>NaN</td>\n",
       "      <td>0</td>\n",
       "    </tr>\n",
       "    <tr>\n",
       "      <th>...</th>\n",
       "      <td>...</td>\n",
       "      <td>...</td>\n",
       "      <td>...</td>\n",
       "      <td>...</td>\n",
       "      <td>...</td>\n",
       "      <td>...</td>\n",
       "      <td>...</td>\n",
       "      <td>...</td>\n",
       "      <td>...</td>\n",
       "      <td>...</td>\n",
       "    </tr>\n",
       "    <tr>\n",
       "      <th>1292948</th>\n",
       "      <td>9217</td>\n",
       "      <td>1157627</td>\n",
       "      <td>5.0</td>\n",
       "      <td>2018-09-25</td>\n",
       "      <td>Male</td>\n",
       "      <td>Headphones</td>\n",
       "      <td>NaN</td>\n",
       "      <td>2016</td>\n",
       "      <td>NaN</td>\n",
       "      <td>0</td>\n",
       "    </tr>\n",
       "    <tr>\n",
       "      <th>1292949</th>\n",
       "      <td>9478</td>\n",
       "      <td>1157628</td>\n",
       "      <td>1.0</td>\n",
       "      <td>2018-09-26</td>\n",
       "      <td>Female</td>\n",
       "      <td>Headphones</td>\n",
       "      <td>Etre Jeune</td>\n",
       "      <td>2017</td>\n",
       "      <td>NaN</td>\n",
       "      <td>0</td>\n",
       "    </tr>\n",
       "    <tr>\n",
       "      <th>1292950</th>\n",
       "      <td>9435</td>\n",
       "      <td>1157629</td>\n",
       "      <td>5.0</td>\n",
       "      <td>2018-09-26</td>\n",
       "      <td>Female</td>\n",
       "      <td>Computers &amp; Accessories</td>\n",
       "      <td>NaN</td>\n",
       "      <td>2017</td>\n",
       "      <td>NaN</td>\n",
       "      <td>0</td>\n",
       "    </tr>\n",
       "    <tr>\n",
       "      <th>1292951</th>\n",
       "      <td>9305</td>\n",
       "      <td>1157630</td>\n",
       "      <td>3.0</td>\n",
       "      <td>2018-09-26</td>\n",
       "      <td>Female</td>\n",
       "      <td>Computers &amp; Accessories</td>\n",
       "      <td>NaN</td>\n",
       "      <td>2016</td>\n",
       "      <td>NaN</td>\n",
       "      <td>0</td>\n",
       "    </tr>\n",
       "    <tr>\n",
       "      <th>1292952</th>\n",
       "      <td>9303</td>\n",
       "      <td>1157631</td>\n",
       "      <td>5.0</td>\n",
       "      <td>2018-09-29</td>\n",
       "      <td>Male</td>\n",
       "      <td>Headphones</td>\n",
       "      <td>NaN</td>\n",
       "      <td>2018</td>\n",
       "      <td>NaN</td>\n",
       "      <td>0</td>\n",
       "    </tr>\n",
       "  </tbody>\n",
       "</table>\n",
       "<p>1247788 rows × 10 columns</p>\n",
       "</div>"
      ],
      "text/plain": [
       "         item_id  user_id  rating   timestamp model_attr  \\\n",
       "0              0        0     5.0  1999-06-13     Female   \n",
       "1              0        1     5.0  1999-06-14     Female   \n",
       "2              0        2     3.0  1999-06-17     Female   \n",
       "3              0        3     1.0  1999-07-01     Female   \n",
       "4              0        4     2.0  1999-07-06     Female   \n",
       "...          ...      ...     ...         ...        ...   \n",
       "1292948     9217  1157627     5.0  2018-09-25       Male   \n",
       "1292949     9478  1157628     1.0  2018-09-26     Female   \n",
       "1292950     9435  1157629     5.0  2018-09-26     Female   \n",
       "1292951     9305  1157630     3.0  2018-09-26     Female   \n",
       "1292952     9303  1157631     5.0  2018-09-29       Male   \n",
       "\n",
       "                        category       brand  year user_attr  split  \n",
       "0         Portable Audio & Video         NaN  1999       NaN      0  \n",
       "1         Portable Audio & Video         NaN  1999       NaN      0  \n",
       "2         Portable Audio & Video         NaN  1999       NaN      0  \n",
       "3         Portable Audio & Video         NaN  1999       NaN      0  \n",
       "4         Portable Audio & Video         NaN  1999       NaN      0  \n",
       "...                          ...         ...   ...       ...    ...  \n",
       "1292948               Headphones         NaN  2016       NaN      0  \n",
       "1292949               Headphones  Etre Jeune  2017       NaN      0  \n",
       "1292950  Computers & Accessories         NaN  2017       NaN      0  \n",
       "1292951  Computers & Accessories         NaN  2016       NaN      0  \n",
       "1292952               Headphones         NaN  2018       NaN      0  \n",
       "\n",
       "[1247788 rows x 10 columns]"
      ]
     },
     "execution_count": 6,
     "metadata": {},
     "output_type": "execute_result"
    }
   ],
   "source": [
    "nan_rows"
   ]
  },
  {
   "cell_type": "code",
   "execution_count": 7,
   "metadata": {},
   "outputs": [
    {
     "data": {
      "text/plain": [
       "96.50675894115336"
      ]
     },
     "execution_count": 7,
     "metadata": {},
     "output_type": "execute_result"
    }
   ],
   "source": [
    "len(nan_rows) / len(df) * 100"
   ]
  },
  {
   "cell_type": "code",
   "execution_count": 8,
   "metadata": {},
   "outputs": [],
   "source": [
    "# user_attr is Nan\n",
    "\n",
    "def is_user_attr_nan(user_attr):\n",
    "    return pd.isna(user_attr)\n",
    "\n",
    "def is_brand_nan(brand):\n",
    "    return pd.isna(brand)"
   ]
  },
  {
   "cell_type": "code",
   "execution_count": 9,
   "metadata": {},
   "outputs": [],
   "source": [
    "nan_user_attr = df[df['user_attr'].apply(is_user_attr_nan)]"
   ]
  },
  {
   "cell_type": "code",
   "execution_count": 10,
   "metadata": {},
   "outputs": [
    {
     "data": {
      "text/html": [
       "<div>\n",
       "<style scoped>\n",
       "    .dataframe tbody tr th:only-of-type {\n",
       "        vertical-align: middle;\n",
       "    }\n",
       "\n",
       "    .dataframe tbody tr th {\n",
       "        vertical-align: top;\n",
       "    }\n",
       "\n",
       "    .dataframe thead th {\n",
       "        text-align: right;\n",
       "    }\n",
       "</style>\n",
       "<table border=\"1\" class=\"dataframe\">\n",
       "  <thead>\n",
       "    <tr style=\"text-align: right;\">\n",
       "      <th></th>\n",
       "      <th>item_id</th>\n",
       "      <th>user_id</th>\n",
       "      <th>rating</th>\n",
       "      <th>timestamp</th>\n",
       "      <th>model_attr</th>\n",
       "      <th>category</th>\n",
       "      <th>brand</th>\n",
       "      <th>year</th>\n",
       "      <th>user_attr</th>\n",
       "      <th>split</th>\n",
       "    </tr>\n",
       "  </thead>\n",
       "  <tbody>\n",
       "    <tr>\n",
       "      <th>0</th>\n",
       "      <td>0</td>\n",
       "      <td>0</td>\n",
       "      <td>5.0</td>\n",
       "      <td>1999-06-13</td>\n",
       "      <td>Female</td>\n",
       "      <td>Portable Audio &amp; Video</td>\n",
       "      <td>NaN</td>\n",
       "      <td>1999</td>\n",
       "      <td>NaN</td>\n",
       "      <td>0</td>\n",
       "    </tr>\n",
       "    <tr>\n",
       "      <th>1</th>\n",
       "      <td>0</td>\n",
       "      <td>1</td>\n",
       "      <td>5.0</td>\n",
       "      <td>1999-06-14</td>\n",
       "      <td>Female</td>\n",
       "      <td>Portable Audio &amp; Video</td>\n",
       "      <td>NaN</td>\n",
       "      <td>1999</td>\n",
       "      <td>NaN</td>\n",
       "      <td>0</td>\n",
       "    </tr>\n",
       "    <tr>\n",
       "      <th>2</th>\n",
       "      <td>0</td>\n",
       "      <td>2</td>\n",
       "      <td>3.0</td>\n",
       "      <td>1999-06-17</td>\n",
       "      <td>Female</td>\n",
       "      <td>Portable Audio &amp; Video</td>\n",
       "      <td>NaN</td>\n",
       "      <td>1999</td>\n",
       "      <td>NaN</td>\n",
       "      <td>0</td>\n",
       "    </tr>\n",
       "    <tr>\n",
       "      <th>3</th>\n",
       "      <td>0</td>\n",
       "      <td>3</td>\n",
       "      <td>1.0</td>\n",
       "      <td>1999-07-01</td>\n",
       "      <td>Female</td>\n",
       "      <td>Portable Audio &amp; Video</td>\n",
       "      <td>NaN</td>\n",
       "      <td>1999</td>\n",
       "      <td>NaN</td>\n",
       "      <td>0</td>\n",
       "    </tr>\n",
       "    <tr>\n",
       "      <th>4</th>\n",
       "      <td>0</td>\n",
       "      <td>4</td>\n",
       "      <td>2.0</td>\n",
       "      <td>1999-07-06</td>\n",
       "      <td>Female</td>\n",
       "      <td>Portable Audio &amp; Video</td>\n",
       "      <td>NaN</td>\n",
       "      <td>1999</td>\n",
       "      <td>NaN</td>\n",
       "      <td>0</td>\n",
       "    </tr>\n",
       "    <tr>\n",
       "      <th>...</th>\n",
       "      <td>...</td>\n",
       "      <td>...</td>\n",
       "      <td>...</td>\n",
       "      <td>...</td>\n",
       "      <td>...</td>\n",
       "      <td>...</td>\n",
       "      <td>...</td>\n",
       "      <td>...</td>\n",
       "      <td>...</td>\n",
       "      <td>...</td>\n",
       "    </tr>\n",
       "    <tr>\n",
       "      <th>1292948</th>\n",
       "      <td>9217</td>\n",
       "      <td>1157627</td>\n",
       "      <td>5.0</td>\n",
       "      <td>2018-09-25</td>\n",
       "      <td>Male</td>\n",
       "      <td>Headphones</td>\n",
       "      <td>NaN</td>\n",
       "      <td>2016</td>\n",
       "      <td>NaN</td>\n",
       "      <td>0</td>\n",
       "    </tr>\n",
       "    <tr>\n",
       "      <th>1292949</th>\n",
       "      <td>9478</td>\n",
       "      <td>1157628</td>\n",
       "      <td>1.0</td>\n",
       "      <td>2018-09-26</td>\n",
       "      <td>Female</td>\n",
       "      <td>Headphones</td>\n",
       "      <td>Etre Jeune</td>\n",
       "      <td>2017</td>\n",
       "      <td>NaN</td>\n",
       "      <td>0</td>\n",
       "    </tr>\n",
       "    <tr>\n",
       "      <th>1292950</th>\n",
       "      <td>9435</td>\n",
       "      <td>1157629</td>\n",
       "      <td>5.0</td>\n",
       "      <td>2018-09-26</td>\n",
       "      <td>Female</td>\n",
       "      <td>Computers &amp; Accessories</td>\n",
       "      <td>NaN</td>\n",
       "      <td>2017</td>\n",
       "      <td>NaN</td>\n",
       "      <td>0</td>\n",
       "    </tr>\n",
       "    <tr>\n",
       "      <th>1292951</th>\n",
       "      <td>9305</td>\n",
       "      <td>1157630</td>\n",
       "      <td>3.0</td>\n",
       "      <td>2018-09-26</td>\n",
       "      <td>Female</td>\n",
       "      <td>Computers &amp; Accessories</td>\n",
       "      <td>NaN</td>\n",
       "      <td>2016</td>\n",
       "      <td>NaN</td>\n",
       "      <td>0</td>\n",
       "    </tr>\n",
       "    <tr>\n",
       "      <th>1292952</th>\n",
       "      <td>9303</td>\n",
       "      <td>1157631</td>\n",
       "      <td>5.0</td>\n",
       "      <td>2018-09-29</td>\n",
       "      <td>Male</td>\n",
       "      <td>Headphones</td>\n",
       "      <td>NaN</td>\n",
       "      <td>2018</td>\n",
       "      <td>NaN</td>\n",
       "      <td>0</td>\n",
       "    </tr>\n",
       "  </tbody>\n",
       "</table>\n",
       "<p>1118830 rows × 10 columns</p>\n",
       "</div>"
      ],
      "text/plain": [
       "         item_id  user_id  rating   timestamp model_attr  \\\n",
       "0              0        0     5.0  1999-06-13     Female   \n",
       "1              0        1     5.0  1999-06-14     Female   \n",
       "2              0        2     3.0  1999-06-17     Female   \n",
       "3              0        3     1.0  1999-07-01     Female   \n",
       "4              0        4     2.0  1999-07-06     Female   \n",
       "...          ...      ...     ...         ...        ...   \n",
       "1292948     9217  1157627     5.0  2018-09-25       Male   \n",
       "1292949     9478  1157628     1.0  2018-09-26     Female   \n",
       "1292950     9435  1157629     5.0  2018-09-26     Female   \n",
       "1292951     9305  1157630     3.0  2018-09-26     Female   \n",
       "1292952     9303  1157631     5.0  2018-09-29       Male   \n",
       "\n",
       "                        category       brand  year user_attr  split  \n",
       "0         Portable Audio & Video         NaN  1999       NaN      0  \n",
       "1         Portable Audio & Video         NaN  1999       NaN      0  \n",
       "2         Portable Audio & Video         NaN  1999       NaN      0  \n",
       "3         Portable Audio & Video         NaN  1999       NaN      0  \n",
       "4         Portable Audio & Video         NaN  1999       NaN      0  \n",
       "...                          ...         ...   ...       ...    ...  \n",
       "1292948               Headphones         NaN  2016       NaN      0  \n",
       "1292949               Headphones  Etre Jeune  2017       NaN      0  \n",
       "1292950  Computers & Accessories         NaN  2017       NaN      0  \n",
       "1292951  Computers & Accessories         NaN  2016       NaN      0  \n",
       "1292952               Headphones         NaN  2018       NaN      0  \n",
       "\n",
       "[1118830 rows x 10 columns]"
      ]
     },
     "execution_count": 10,
     "metadata": {},
     "output_type": "execute_result"
    }
   ],
   "source": [
    "nan_user_attr"
   ]
  },
  {
   "cell_type": "code",
   "execution_count": 11,
   "metadata": {},
   "outputs": [
    {
     "data": {
      "text/plain": [
       "86.53285422373882"
      ]
     },
     "execution_count": 11,
     "metadata": {},
     "output_type": "execute_result"
    }
   ],
   "source": [
    "len(nan_user_attr) / len(df) * 100"
   ]
  },
  {
   "cell_type": "code",
   "execution_count": 12,
   "metadata": {},
   "outputs": [],
   "source": [
    "nan_brand = df[df['brand'].apply(is_user_attr_nan)]"
   ]
  },
  {
   "cell_type": "code",
   "execution_count": 13,
   "metadata": {},
   "outputs": [
    {
     "data": {
      "text/html": [
       "<div>\n",
       "<style scoped>\n",
       "    .dataframe tbody tr th:only-of-type {\n",
       "        vertical-align: middle;\n",
       "    }\n",
       "\n",
       "    .dataframe tbody tr th {\n",
       "        vertical-align: top;\n",
       "    }\n",
       "\n",
       "    .dataframe thead th {\n",
       "        text-align: right;\n",
       "    }\n",
       "</style>\n",
       "<table border=\"1\" class=\"dataframe\">\n",
       "  <thead>\n",
       "    <tr style=\"text-align: right;\">\n",
       "      <th></th>\n",
       "      <th>item_id</th>\n",
       "      <th>user_id</th>\n",
       "      <th>rating</th>\n",
       "      <th>timestamp</th>\n",
       "      <th>model_attr</th>\n",
       "      <th>category</th>\n",
       "      <th>brand</th>\n",
       "      <th>year</th>\n",
       "      <th>user_attr</th>\n",
       "      <th>split</th>\n",
       "    </tr>\n",
       "  </thead>\n",
       "  <tbody>\n",
       "    <tr>\n",
       "      <th>0</th>\n",
       "      <td>0</td>\n",
       "      <td>0</td>\n",
       "      <td>5.0</td>\n",
       "      <td>1999-06-13</td>\n",
       "      <td>Female</td>\n",
       "      <td>Portable Audio &amp; Video</td>\n",
       "      <td>NaN</td>\n",
       "      <td>1999</td>\n",
       "      <td>NaN</td>\n",
       "      <td>0</td>\n",
       "    </tr>\n",
       "    <tr>\n",
       "      <th>1</th>\n",
       "      <td>0</td>\n",
       "      <td>1</td>\n",
       "      <td>5.0</td>\n",
       "      <td>1999-06-14</td>\n",
       "      <td>Female</td>\n",
       "      <td>Portable Audio &amp; Video</td>\n",
       "      <td>NaN</td>\n",
       "      <td>1999</td>\n",
       "      <td>NaN</td>\n",
       "      <td>0</td>\n",
       "    </tr>\n",
       "    <tr>\n",
       "      <th>2</th>\n",
       "      <td>0</td>\n",
       "      <td>2</td>\n",
       "      <td>3.0</td>\n",
       "      <td>1999-06-17</td>\n",
       "      <td>Female</td>\n",
       "      <td>Portable Audio &amp; Video</td>\n",
       "      <td>NaN</td>\n",
       "      <td>1999</td>\n",
       "      <td>NaN</td>\n",
       "      <td>0</td>\n",
       "    </tr>\n",
       "    <tr>\n",
       "      <th>3</th>\n",
       "      <td>0</td>\n",
       "      <td>3</td>\n",
       "      <td>1.0</td>\n",
       "      <td>1999-07-01</td>\n",
       "      <td>Female</td>\n",
       "      <td>Portable Audio &amp; Video</td>\n",
       "      <td>NaN</td>\n",
       "      <td>1999</td>\n",
       "      <td>NaN</td>\n",
       "      <td>0</td>\n",
       "    </tr>\n",
       "    <tr>\n",
       "      <th>4</th>\n",
       "      <td>0</td>\n",
       "      <td>4</td>\n",
       "      <td>2.0</td>\n",
       "      <td>1999-07-06</td>\n",
       "      <td>Female</td>\n",
       "      <td>Portable Audio &amp; Video</td>\n",
       "      <td>NaN</td>\n",
       "      <td>1999</td>\n",
       "      <td>NaN</td>\n",
       "      <td>0</td>\n",
       "    </tr>\n",
       "    <tr>\n",
       "      <th>...</th>\n",
       "      <td>...</td>\n",
       "      <td>...</td>\n",
       "      <td>...</td>\n",
       "      <td>...</td>\n",
       "      <td>...</td>\n",
       "      <td>...</td>\n",
       "      <td>...</td>\n",
       "      <td>...</td>\n",
       "      <td>...</td>\n",
       "      <td>...</td>\n",
       "    </tr>\n",
       "    <tr>\n",
       "      <th>1292947</th>\n",
       "      <td>9263</td>\n",
       "      <td>111199</td>\n",
       "      <td>4.0</td>\n",
       "      <td>2018-09-25</td>\n",
       "      <td>Male</td>\n",
       "      <td>Camera &amp; Photo</td>\n",
       "      <td>NaN</td>\n",
       "      <td>2016</td>\n",
       "      <td>NaN</td>\n",
       "      <td>2</td>\n",
       "    </tr>\n",
       "    <tr>\n",
       "      <th>1292948</th>\n",
       "      <td>9217</td>\n",
       "      <td>1157627</td>\n",
       "      <td>5.0</td>\n",
       "      <td>2018-09-25</td>\n",
       "      <td>Male</td>\n",
       "      <td>Headphones</td>\n",
       "      <td>NaN</td>\n",
       "      <td>2016</td>\n",
       "      <td>NaN</td>\n",
       "      <td>0</td>\n",
       "    </tr>\n",
       "    <tr>\n",
       "      <th>1292950</th>\n",
       "      <td>9435</td>\n",
       "      <td>1157629</td>\n",
       "      <td>5.0</td>\n",
       "      <td>2018-09-26</td>\n",
       "      <td>Female</td>\n",
       "      <td>Computers &amp; Accessories</td>\n",
       "      <td>NaN</td>\n",
       "      <td>2017</td>\n",
       "      <td>NaN</td>\n",
       "      <td>0</td>\n",
       "    </tr>\n",
       "    <tr>\n",
       "      <th>1292951</th>\n",
       "      <td>9305</td>\n",
       "      <td>1157630</td>\n",
       "      <td>3.0</td>\n",
       "      <td>2018-09-26</td>\n",
       "      <td>Female</td>\n",
       "      <td>Computers &amp; Accessories</td>\n",
       "      <td>NaN</td>\n",
       "      <td>2016</td>\n",
       "      <td>NaN</td>\n",
       "      <td>0</td>\n",
       "    </tr>\n",
       "    <tr>\n",
       "      <th>1292952</th>\n",
       "      <td>9303</td>\n",
       "      <td>1157631</td>\n",
       "      <td>5.0</td>\n",
       "      <td>2018-09-29</td>\n",
       "      <td>Male</td>\n",
       "      <td>Headphones</td>\n",
       "      <td>NaN</td>\n",
       "      <td>2018</td>\n",
       "      <td>NaN</td>\n",
       "      <td>0</td>\n",
       "    </tr>\n",
       "  </tbody>\n",
       "</table>\n",
       "<p>961834 rows × 10 columns</p>\n",
       "</div>"
      ],
      "text/plain": [
       "         item_id  user_id  rating   timestamp model_attr  \\\n",
       "0              0        0     5.0  1999-06-13     Female   \n",
       "1              0        1     5.0  1999-06-14     Female   \n",
       "2              0        2     3.0  1999-06-17     Female   \n",
       "3              0        3     1.0  1999-07-01     Female   \n",
       "4              0        4     2.0  1999-07-06     Female   \n",
       "...          ...      ...     ...         ...        ...   \n",
       "1292947     9263   111199     4.0  2018-09-25       Male   \n",
       "1292948     9217  1157627     5.0  2018-09-25       Male   \n",
       "1292950     9435  1157629     5.0  2018-09-26     Female   \n",
       "1292951     9305  1157630     3.0  2018-09-26     Female   \n",
       "1292952     9303  1157631     5.0  2018-09-29       Male   \n",
       "\n",
       "                        category brand  year user_attr  split  \n",
       "0         Portable Audio & Video   NaN  1999       NaN      0  \n",
       "1         Portable Audio & Video   NaN  1999       NaN      0  \n",
       "2         Portable Audio & Video   NaN  1999       NaN      0  \n",
       "3         Portable Audio & Video   NaN  1999       NaN      0  \n",
       "4         Portable Audio & Video   NaN  1999       NaN      0  \n",
       "...                          ...   ...   ...       ...    ...  \n",
       "1292947           Camera & Photo   NaN  2016       NaN      2  \n",
       "1292948               Headphones   NaN  2016       NaN      0  \n",
       "1292950  Computers & Accessories   NaN  2017       NaN      0  \n",
       "1292951  Computers & Accessories   NaN  2016       NaN      0  \n",
       "1292952               Headphones   NaN  2018       NaN      0  \n",
       "\n",
       "[961834 rows x 10 columns]"
      ]
     },
     "execution_count": 13,
     "metadata": {},
     "output_type": "execute_result"
    }
   ],
   "source": [
    "nan_brand"
   ]
  },
  {
   "cell_type": "code",
   "execution_count": 14,
   "metadata": {},
   "outputs": [
    {
     "data": {
      "text/plain": [
       "74.39042688293628"
      ]
     },
     "execution_count": 14,
     "metadata": {},
     "output_type": "execute_result"
    }
   ],
   "source": [
    "len(nan_brand) / len(df) * 100"
   ]
  },
  {
   "cell_type": "markdown",
   "metadata": {},
   "source": [
    "### Insights\n",
    "- A significant portion (97%) of the dataframe contains rows with NaN values in at least one of the columns `brand` or `user_attr`.\n",
    "- Rows with NaN in the brand column account for 74% of the total number of rows in the dataframe.\n",
    "- Rows with NaN in the `user_attr` column make up 86% of the dataframe. The `user_attr` column, which indicates either `Male` or `Female`, may not provide meaningful insights.\n",
    "- Given these observations, we may choose to ignore the `user_attr` and `brand` columns in our analysis."
   ]
  },
  {
   "cell_type": "markdown",
   "metadata": {},
   "source": [
    "## Sale over Years"
   ]
  },
  {
   "cell_type": "code",
   "execution_count": 15,
   "metadata": {},
   "outputs": [],
   "source": [
    "range_years = df['year'].unique()"
   ]
  },
  {
   "cell_type": "code",
   "execution_count": 16,
   "metadata": {},
   "outputs": [],
   "source": [
    "range_years = np.sort(range_years)"
   ]
  },
  {
   "cell_type": "code",
   "execution_count": 17,
   "metadata": {},
   "outputs": [
    {
     "data": {
      "text/plain": [
       "array([1999, 2000, 2001, 2002, 2003, 2004, 2005, 2006, 2007, 2008, 2009,\n",
       "       2010, 2011, 2012, 2013, 2014, 2015, 2016, 2017, 2018])"
      ]
     },
     "execution_count": 17,
     "metadata": {},
     "output_type": "execute_result"
    }
   ],
   "source": [
    "range_years"
   ]
  },
  {
   "cell_type": "code",
   "execution_count": 18,
   "metadata": {},
   "outputs": [
    {
     "data": {
      "text/html": [
       "<div>\n",
       "<style scoped>\n",
       "    .dataframe tbody tr th:only-of-type {\n",
       "        vertical-align: middle;\n",
       "    }\n",
       "\n",
       "    .dataframe tbody tr th {\n",
       "        vertical-align: top;\n",
       "    }\n",
       "\n",
       "    .dataframe thead th {\n",
       "        text-align: right;\n",
       "    }\n",
       "</style>\n",
       "<table border=\"1\" class=\"dataframe\">\n",
       "  <thead>\n",
       "    <tr style=\"text-align: right;\">\n",
       "      <th></th>\n",
       "      <th>item_id</th>\n",
       "      <th>user_id</th>\n",
       "      <th>rating</th>\n",
       "      <th>timestamp</th>\n",
       "      <th>model_attr</th>\n",
       "      <th>category</th>\n",
       "      <th>brand</th>\n",
       "      <th>year</th>\n",
       "      <th>user_attr</th>\n",
       "      <th>split</th>\n",
       "    </tr>\n",
       "  </thead>\n",
       "  <tbody>\n",
       "    <tr>\n",
       "      <th>157136</th>\n",
       "      <td>2589</td>\n",
       "      <td>148693</td>\n",
       "      <td>5.0</td>\n",
       "      <td>2013-06-10</td>\n",
       "      <td>Female</td>\n",
       "      <td>Computers &amp; Accessories</td>\n",
       "      <td>NaN</td>\n",
       "      <td>2013</td>\n",
       "      <td>NaN</td>\n",
       "      <td>0</td>\n",
       "    </tr>\n",
       "    <tr>\n",
       "      <th>157137</th>\n",
       "      <td>2148</td>\n",
       "      <td>148694</td>\n",
       "      <td>4.0</td>\n",
       "      <td>2013-06-10</td>\n",
       "      <td>Female</td>\n",
       "      <td>Headphones</td>\n",
       "      <td>NaN</td>\n",
       "      <td>2012</td>\n",
       "      <td>NaN</td>\n",
       "      <td>0</td>\n",
       "    </tr>\n",
       "    <tr>\n",
       "      <th>157138</th>\n",
       "      <td>2797</td>\n",
       "      <td>92917</td>\n",
       "      <td>4.0</td>\n",
       "      <td>2013-06-10</td>\n",
       "      <td>Male</td>\n",
       "      <td>Home Audio</td>\n",
       "      <td>NaN</td>\n",
       "      <td>2013</td>\n",
       "      <td>Male</td>\n",
       "      <td>0</td>\n",
       "    </tr>\n",
       "    <tr>\n",
       "      <th>157139</th>\n",
       "      <td>2340</td>\n",
       "      <td>148695</td>\n",
       "      <td>5.0</td>\n",
       "      <td>2013-06-10</td>\n",
       "      <td>Female&amp;Male</td>\n",
       "      <td>Headphones</td>\n",
       "      <td>NaN</td>\n",
       "      <td>2012</td>\n",
       "      <td>NaN</td>\n",
       "      <td>0</td>\n",
       "    </tr>\n",
       "    <tr>\n",
       "      <th>157140</th>\n",
       "      <td>0</td>\n",
       "      <td>148696</td>\n",
       "      <td>4.0</td>\n",
       "      <td>2013-06-10</td>\n",
       "      <td>Female</td>\n",
       "      <td>Portable Audio &amp; Video</td>\n",
       "      <td>NaN</td>\n",
       "      <td>1999</td>\n",
       "      <td>NaN</td>\n",
       "      <td>0</td>\n",
       "    </tr>\n",
       "    <tr>\n",
       "      <th>157141</th>\n",
       "      <td>2754</td>\n",
       "      <td>148697</td>\n",
       "      <td>5.0</td>\n",
       "      <td>2013-06-10</td>\n",
       "      <td>Male</td>\n",
       "      <td>Headphones</td>\n",
       "      <td>NaN</td>\n",
       "      <td>2013</td>\n",
       "      <td>NaN</td>\n",
       "      <td>0</td>\n",
       "    </tr>\n",
       "    <tr>\n",
       "      <th>157142</th>\n",
       "      <td>209</td>\n",
       "      <td>148698</td>\n",
       "      <td>5.0</td>\n",
       "      <td>2013-06-10</td>\n",
       "      <td>Female</td>\n",
       "      <td>Camera &amp; Photo</td>\n",
       "      <td>Nikon</td>\n",
       "      <td>2005</td>\n",
       "      <td>Male</td>\n",
       "      <td>0</td>\n",
       "    </tr>\n",
       "    <tr>\n",
       "      <th>157143</th>\n",
       "      <td>2340</td>\n",
       "      <td>148699</td>\n",
       "      <td>5.0</td>\n",
       "      <td>2013-06-10</td>\n",
       "      <td>Female&amp;Male</td>\n",
       "      <td>Headphones</td>\n",
       "      <td>NaN</td>\n",
       "      <td>2012</td>\n",
       "      <td>NaN</td>\n",
       "      <td>0</td>\n",
       "    </tr>\n",
       "    <tr>\n",
       "      <th>157144</th>\n",
       "      <td>1130</td>\n",
       "      <td>148700</td>\n",
       "      <td>5.0</td>\n",
       "      <td>2013-06-10</td>\n",
       "      <td>Female</td>\n",
       "      <td>Headphones</td>\n",
       "      <td>NaN</td>\n",
       "      <td>2009</td>\n",
       "      <td>NaN</td>\n",
       "      <td>0</td>\n",
       "    </tr>\n",
       "  </tbody>\n",
       "</table>\n",
       "</div>"
      ],
      "text/plain": [
       "        item_id  user_id  rating   timestamp   model_attr  \\\n",
       "157136     2589   148693     5.0  2013-06-10       Female   \n",
       "157137     2148   148694     4.0  2013-06-10       Female   \n",
       "157138     2797    92917     4.0  2013-06-10         Male   \n",
       "157139     2340   148695     5.0  2013-06-10  Female&Male   \n",
       "157140        0   148696     4.0  2013-06-10       Female   \n",
       "157141     2754   148697     5.0  2013-06-10         Male   \n",
       "157142      209   148698     5.0  2013-06-10       Female   \n",
       "157143     2340   148699     5.0  2013-06-10  Female&Male   \n",
       "157144     1130   148700     5.0  2013-06-10       Female   \n",
       "\n",
       "                       category  brand  year user_attr  split  \n",
       "157136  Computers & Accessories    NaN  2013       NaN      0  \n",
       "157137               Headphones    NaN  2012       NaN      0  \n",
       "157138               Home Audio    NaN  2013      Male      0  \n",
       "157139               Headphones    NaN  2012       NaN      0  \n",
       "157140   Portable Audio & Video    NaN  1999       NaN      0  \n",
       "157141               Headphones    NaN  2013       NaN      0  \n",
       "157142           Camera & Photo  Nikon  2005      Male      0  \n",
       "157143               Headphones    NaN  2012       NaN      0  \n",
       "157144               Headphones    NaN  2009       NaN      0  "
      ]
     },
     "execution_count": 18,
     "metadata": {},
     "output_type": "execute_result"
    }
   ],
   "source": [
    "df.iloc[157136:157145]"
   ]
  },
  {
   "cell_type": "markdown",
   "metadata": {},
   "source": [
    "### First remark\n",
    "Upon examining a slice of the dataframe, we observed that several rows have timestamps that do not match the `year` column. For instance, row 157140 has a timestamp in 2013, but its `year` is listed as 1999. A similar discrepancy is found in row 157137.\n",
    "\n",
    "Given these inconsistencies, we have decided to use the timestamp as the reference time for each purchase.\n"
   ]
  },
  {
   "cell_type": "markdown",
   "metadata": {},
   "source": [
    "### Dealing with Timestamps"
   ]
  },
  {
   "cell_type": "code",
   "execution_count": 19,
   "metadata": {},
   "outputs": [
    {
     "name": "stdout",
     "output_type": "stream",
     "text": [
      "<class 'pandas.core.frame.DataFrame'>\n",
      "RangeIndex: 1292954 entries, 0 to 1292953\n",
      "Data columns (total 10 columns):\n",
      " #   Column      Non-Null Count    Dtype  \n",
      "---  ------      --------------    -----  \n",
      " 0   item_id     1292954 non-null  int64  \n",
      " 1   user_id     1292954 non-null  int64  \n",
      " 2   rating      1292954 non-null  float64\n",
      " 3   timestamp   1292954 non-null  object \n",
      " 4   model_attr  1292954 non-null  object \n",
      " 5   category    1292954 non-null  object \n",
      " 6   brand       331120 non-null   object \n",
      " 7   year        1292954 non-null  int64  \n",
      " 8   user_attr   174124 non-null   object \n",
      " 9   split       1292954 non-null  int64  \n",
      "dtypes: float64(1), int64(4), object(5)\n",
      "memory usage: 98.6+ MB\n"
     ]
    }
   ],
   "source": [
    "df.info()"
   ]
  },
  {
   "cell_type": "code",
   "execution_count": 20,
   "metadata": {},
   "outputs": [],
   "source": [
    "# Convert timestamp to pd datetime\n",
    "df['timestamp'] = pd.to_datetime(df['timestamp'])"
   ]
  },
  {
   "cell_type": "markdown",
   "metadata": {},
   "source": [
    "### Sale per year"
   ]
  },
  {
   "cell_type": "code",
   "execution_count": 21,
   "metadata": {},
   "outputs": [],
   "source": [
    "def from_time_stamp_to_year(timestamp):\n",
    "    return timestamp.strftime('%Y')"
   ]
  },
  {
   "cell_type": "code",
   "execution_count": 22,
   "metadata": {},
   "outputs": [],
   "source": [
    "def prod_sold_in_year(year, timestamp):\n",
    "    return from_time_stamp_to_year(timestamp) == year"
   ]
  },
  {
   "cell_type": "code",
   "execution_count": 23,
   "metadata": {},
   "outputs": [
    {
     "data": {
      "text/plain": [
       "Timestamp('2018-10-01 00:00:00')"
      ]
     },
     "execution_count": 23,
     "metadata": {},
     "output_type": "execute_result"
    }
   ],
   "source": [
    "max(df.timestamp)"
   ]
  },
  {
   "cell_type": "code",
   "execution_count": 24,
   "metadata": {},
   "outputs": [
    {
     "data": {
      "text/plain": [
       "Timestamp('1999-06-13 00:00:00')"
      ]
     },
     "execution_count": 24,
     "metadata": {},
     "output_type": "execute_result"
    }
   ],
   "source": [
    "min(df.timestamp)"
   ]
  },
  {
   "cell_type": "code",
   "execution_count": 25,
   "metadata": {},
   "outputs": [],
   "source": [
    "range_years = df['timestamp'].apply(from_time_stamp_to_year)"
   ]
  },
  {
   "cell_type": "code",
   "execution_count": 26,
   "metadata": {},
   "outputs": [],
   "source": [
    "range_years = range_years.unique()"
   ]
  },
  {
   "cell_type": "code",
   "execution_count": 27,
   "metadata": {},
   "outputs": [],
   "source": [
    "year_and_noProducts = dict()"
   ]
  },
  {
   "cell_type": "code",
   "execution_count": 28,
   "metadata": {},
   "outputs": [],
   "source": [
    "for year in range_years:\n",
    "    prod_year = df[df['timestamp'].apply(lambda x: prod_sold_in_year(year, x))]\n",
    "    year_and_noProducts[year] = len(prod_year)"
   ]
  },
  {
   "cell_type": "markdown",
   "metadata": {},
   "source": [
    "### Sales over Year: Plot"
   ]
  },
  {
   "cell_type": "code",
   "execution_count": 114,
   "metadata": {},
   "outputs": [
    {
     "data": {
      "image/png": "[encoded data removed]",
      "text/plain": [
       "<Figure size 432x288 with 1 Axes>"
      ]
     },
     "metadata": {
      "needs_background": "light"
     },
     "output_type": "display_data"
    }
   ],
   "source": [
    "fig, ax = plt.subplots()\n",
    "\n",
    "values = [x/100 for x in year_and_noProducts.values()]\n",
    "ax.bar(year_and_noProducts.keys(), values)\n",
    "#ax.bar(year_and_noProducts.keys(), year_and_noProducts.values() / 1000)\n",
    "\n",
    "ax.set_ylabel('No. products (in 1k)')\n",
    "ax.set_title('\\\\textbf{Sales over years}')\n",
    "plt.xticks(fontsize=11, rotation=45)\n",
    "\n",
    "plt.savefig('Sales.png')"
   ]
  },
  {
   "cell_type": "markdown",
   "metadata": {},
   "source": [
    "## Categories"
   ]
  },
  {
   "cell_type": "code",
   "execution_count": 30,
   "metadata": {},
   "outputs": [],
   "source": [
    "\n",
    "categories = df['category'].unique()"
   ]
  },
  {
   "cell_type": "code",
   "execution_count": 31,
   "metadata": {},
   "outputs": [
    {
     "name": "stdout",
     "output_type": "stream",
     "text": [
      "<class 'numpy.ndarray'>\n",
      "10\n"
     ]
    }
   ],
   "source": [
    "print(type(categories))\n",
    "print(len(categories))"
   ]
  },
  {
   "cell_type": "code",
   "execution_count": 32,
   "metadata": {},
   "outputs": [
    {
     "data": {
      "text/plain": [
       "array(['Portable Audio & Video', 'Computers & Accessories', 'Headphones',\n",
       "       'Camera & Photo', 'Television & Video', 'Home Audio',\n",
       "       'Accessories & Supplies', 'Car Electronics & GPS',\n",
       "       'Security & Surveillance', 'Wearable Technology'], dtype=object)"
      ]
     },
     "execution_count": 32,
     "metadata": {},
     "output_type": "execute_result"
    }
   ],
   "source": [
    "categories"
   ]
  },
  {
   "cell_type": "code",
   "execution_count": 33,
   "metadata": {},
   "outputs": [
    {
     "data": {
      "text/plain": [
       "item_id                             1\n",
       "user_id                            14\n",
       "rating                            4.0\n",
       "timestamp         1999-10-17 00:00:00\n",
       "model_attr                     Female\n",
       "category      Computers & Accessories\n",
       "brand                              HP\n",
       "year                             2000\n",
       "user_attr                         NaN\n",
       "split                               0\n",
       "Name: 14, dtype: object"
      ]
     },
     "execution_count": 33,
     "metadata": {},
     "output_type": "execute_result"
    }
   ],
   "source": [
    "df.iloc[14]"
   ]
  },
  {
   "cell_type": "markdown",
   "metadata": {},
   "source": [
    "### Sales in Year: Group by Categories"
   ]
  },
  {
   "cell_type": "code",
   "execution_count": 34,
   "metadata": {},
   "outputs": [],
   "source": [
    "chosen_year = pd.to_datetime('2015').strftime('%Y')\n",
    "categories_fraction = []\n",
    "prod_in_category = dict()\n",
    "\n",
    "for cat in categories:\n",
    "    prod_in_category[cat] = 0"
   ]
  },
  {
   "cell_type": "code",
   "execution_count": 35,
   "metadata": {},
   "outputs": [],
   "source": [
    "def is_product_in_category(prod, cat):\n",
    "    return prod.category == cat"
   ]
  },
  {
   "cell_type": "code",
   "execution_count": 36,
   "metadata": {},
   "outputs": [],
   "source": [
    "all_prod_in_chosen_year    =   df[df['timestamp'].apply(lambda x: prod_sold_in_year(chosen_year, x))]"
   ]
  },
  {
   "cell_type": "code",
   "execution_count": 37,
   "metadata": {},
   "outputs": [],
   "source": [
    "no_prod_in_chosen_year      = len(all_prod_in_chosen_year)"
   ]
  },
  {
   "cell_type": "code",
   "execution_count": 38,
   "metadata": {},
   "outputs": [],
   "source": [
    "for cat in categories:\n",
    "    # print(cat)\n",
    "    tmp                         =   df[df['category'] == cat]\n",
    "    prod_in_category_in_year    =   pd.merge(all_prod_in_chosen_year, tmp)\n",
    "    prod_in_category[cat]       =   len(prod_in_category_in_year)\n",
    "    sizes = [round(prod_in_category[cat] / no_prod_in_chosen_year * 100) for cat in categories]\n",
    "    if(sum(sizes) < 100):\n",
    "        sizes[-1] = 100 - sum(sizes[:-1])\n",
    "    assert(sum(sizes) == 100)\n",
    "    "
   ]
  },
  {
   "cell_type": "code",
   "execution_count": 39,
   "metadata": {},
   "outputs": [],
   "source": [
    "## Every category whose fraction is under 10% is groupped together \n",
    "category_sizes  = dict()\n",
    "for i, cat in enumerate(categories):\n",
    "    category_sizes[cat] = sizes[i]\n",
    "    \n",
    "category_sizes['Others'] = 0\n",
    "for cat in categories:\n",
    "    if (category_sizes[cat] < 10):\n",
    "        category_sizes['Others'] += category_sizes[cat]\n",
    "        category_sizes.pop(cat)"
   ]
  },
  {
   "cell_type": "markdown",
   "metadata": {},
   "source": [
    "#### Plot"
   ]
  },
  {
   "cell_type": "code",
   "execution_count": 40,
   "metadata": {},
   "outputs": [
    {
     "data": {
      "image/png": "[encoded data removed]",
      "text/plain": [
       "<Figure size 432x288 with 1 Axes>"
      ]
     },
     "metadata": {},
     "output_type": "display_data"
    }
   ],
   "source": [
    "labels = category_sizes.keys()\n",
    "\n",
    "# escape & in labels\n",
    "new_labels = []\n",
    "for label in labels:\n",
    "    if '&' in label:\n",
    "        new_labels.append(label.replace('&', '\\&'))\n",
    "    else:\n",
    "        new_labels.append(label)\n",
    "\n",
    "sizes = category_sizes.values()\n",
    "\n",
    "fig, ax = plt.subplots()\n",
    "ax.pie(sizes, labels=new_labels, autopct='%1.1f\\%%', startangle=210)\n",
    "\n",
    "plt.savefig('PieChart.pdf')"
   ]
  },
  {
   "cell_type": "markdown",
   "metadata": {},
   "source": [
    "#### Plot: Show Ratings in Category 'Headphones'"
   ]
  },
  {
   "cell_type": "code",
   "execution_count": 41,
   "metadata": {},
   "outputs": [],
   "source": [
    "max_fraction = max(category_sizes.values())\n",
    "myexplode = []\n",
    "\n",
    "for k,v in category_sizes.items():\n",
    "    if (v == max_fraction):\n",
    "        myexplode.append(0.05)\n",
    "    else:\n",
    "        myexplode.append(0.0)"
   ]
  },
  {
   "cell_type": "code",
   "execution_count": 42,
   "metadata": {},
   "outputs": [],
   "source": [
    "headphones_prod_in_chosen_year = all_prod_in_chosen_year[all_prod_in_chosen_year['category'] == 'Headphones']\n",
    "\n",
    "headphones_rating = np.sort(headphones_prod_in_chosen_year.rating.unique())\n",
    "rating_ratios = dict()\n",
    "for r in headphones_rating:\n",
    "    rating_ratios[r] = .0\n",
    "\n",
    "for r in rating_ratios.keys():\n",
    "    tmp = headphones_prod_in_chosen_year[headphones_prod_in_chosen_year['rating'].apply(lambda x: x == r)]\n",
    "    rating_ratios[r] = len(tmp) / len(headphones_prod_in_chosen_year)\n"
   ]
  },
  {
   "cell_type": "code",
   "execution_count": 113,
   "metadata": {},
   "outputs": [
    {
     "data": {
      "image/png": "[encoded data removed]",
      "text/plain": [
       "<Figure size 648x360 with 2 Axes>"
      ]
     },
     "metadata": {
      "needs_background": "light"
     },
     "output_type": "display_data"
    }
   ],
   "source": [
    "from matplotlib.patches import ConnectionPatch\n",
    "\n",
    "# bar chart parameters\n",
    "rating_ratios_plot = rating_ratios.values()\n",
    "rating_labels_plot = rating_ratios.keys()\n",
    "bottom = 1\n",
    "width = .2\n",
    "\n",
    "labels = category_sizes.keys()\n",
    "\n",
    "# escape & in labels\n",
    "new_labels = []\n",
    "for label in labels:\n",
    "    if '&' in label:\n",
    "        new_labels.append(label.replace('&', '\\&'))\n",
    "    else:\n",
    "        new_labels.append(label)\n",
    "\n",
    "sizes = category_sizes.values()\n",
    "\n",
    "# make figure and assign axis objects\n",
    "fig, (ax1, ax2) = plt.subplots(1, 2, figsize=(9, 5))\n",
    "fig.subplots_adjust(wspace=0)\n",
    "\n",
    "wedges, *_ = ax1.pie(sizes, labels=new_labels, autopct='%1.1f\\%%', startangle=210, explode = myexplode)\n",
    "\n",
    "# Adding from the top matches the legend.\n",
    "for j, (height, label) in enumerate(reversed([*zip(rating_ratios_plot, rating_labels_plot)])):\n",
    "    bottom -= height\n",
    "    bc = ax2.bar(0, height, width, bottom=bottom, color='green', label=label, alpha= 1 - (0.2 * j))\n",
    "    ax2.bar_label(bc, labels=[f\"{height*100:.0f}\\%\"], label_type='center')\n",
    "\n",
    "ax2.set_title('Rating')\n",
    "ax2.legend()\n",
    "ax2.axis('off')\n",
    "ax2.set_xlim(- 2.5 * width, 2.5 * width)\n",
    "\n",
    "# use ConnectionPatch to draw lines between the two plots\n",
    "theta1, theta2 = wedges[2].theta1, wedges[2].theta2\n",
    "center, r = wedges[2].center, wedges[2].r\n",
    "bar_height = sum(rating_ratios_plot)\n",
    "\n",
    "# draw top connecting line\n",
    "x = r * np.cos(np.pi / 180 * theta2) + center[0]\n",
    "y = r * np.sin(np.pi / 180 * theta2) + center[1]\n",
    "con = ConnectionPatch(xyA=(-width / 2, bar_height), coordsA=ax2.transData,\n",
    "                      xyB=(x, y), coordsB=ax1.transData)\n",
    "con.set_color([0, 0, 0])\n",
    "con.set_linewidth(2)\n",
    "ax2.add_artist(con)\n",
    "\n",
    "# draw bottom connecting line\n",
    "x = r * np.cos(np.pi / 180 * theta1) + center[0]\n",
    "y = r * np.sin(np.pi / 180 * theta1) + center[1]\n",
    "con = ConnectionPatch(xyA=(-width / 2, 0), coordsA=ax2.transData,\n",
    "                      xyB=(x, y), coordsB=ax1.transData)\n",
    "con.set_color([0, 0, 0])\n",
    "ax2.add_artist(con)\n",
    "con.set_linewidth(2)\n",
    "\n",
    "ax1.set_title(\"\\\\textbf{Category Sales Percentage and Rating Distribution}\")\n",
    "plt.savefig('PieChart_exploded.png')"
   ]
  },
  {
   "cell_type": "markdown",
   "metadata": {},
   "source": [
    "## User IDs"
   ]
  },
  {
   "cell_type": "code",
   "execution_count": 44,
   "metadata": {},
   "outputs": [],
   "source": [
    "\n",
    "user_ids = df['user_id'].unique()"
   ]
  },
  {
   "cell_type": "code",
   "execution_count": 45,
   "metadata": {},
   "outputs": [
    {
     "name": "stdout",
     "output_type": "stream",
     "text": [
      "1157633\n"
     ]
    }
   ],
   "source": [
    "print(len(user_ids))"
   ]
  },
  {
   "cell_type": "code",
   "execution_count": 46,
   "metadata": {},
   "outputs": [
    {
     "data": {
      "text/plain": [
       "array([      0,       1,       2, ..., 1157630, 1157631, 1157632])"
      ]
     },
     "execution_count": 46,
     "metadata": {},
     "output_type": "execute_result"
    }
   ],
   "source": [
    "user_ids"
   ]
  },
  {
   "cell_type": "markdown",
   "metadata": {},
   "source": [
    "### Insights\n",
    "The list of UserIDs is consecutively numbered starting from 0 and ending at `len(user_ids) - 1`. This means each UserID is a unique integer incremented by 1 for each subsequent user."
   ]
  },
  {
   "cell_type": "markdown",
   "metadata": {},
   "source": [
    "### **Question:** Find Top-10 users that buy the most in each category"
   ]
  },
  {
   "cell_type": "code",
   "execution_count": 47,
   "metadata": {},
   "outputs": [
    {
     "data": {
      "text/plain": [
       "array(['Portable Audio & Video', 'Computers & Accessories', 'Headphones',\n",
       "       'Camera & Photo', 'Television & Video', 'Home Audio',\n",
       "       'Accessories & Supplies', 'Car Electronics & GPS',\n",
       "       'Security & Surveillance', 'Wearable Technology'], dtype=object)"
      ]
     },
     "execution_count": 47,
     "metadata": {},
     "output_type": "execute_result"
    }
   ],
   "source": [
    "categories"
   ]
  },
  {
   "cell_type": "code",
   "execution_count": 48,
   "metadata": {},
   "outputs": [],
   "source": [
    "import heapq"
   ]
  },
  {
   "cell_type": "code",
   "execution_count": 83,
   "metadata": {},
   "outputs": [],
   "source": [
    "def find_userID_for_top_products_sold(uid_and_noProdsBought, top_ten_number_of_prods_bought):\n",
    "    \"\"\"Given a list of number of top-ten products sold, find corresponding userIDs\n",
    "\n",
    "    Args:\n",
    "        uid_and_noProdsBought          (dict): a dictionary of (userID, number of products bought by this userID)\n",
    "        top_ten_number_of_prods_bought (list): a list of top-10 products sold\n",
    "\n",
    "    Returns:\n",
    "        dict: a dictionary of (num_products_sold, list of userIDs)\n",
    "    \"\"\"\n",
    "    numProducts_uid = {i:[] for i in top_ten_number_of_prods_bought}\n",
    "\n",
    "    for i in top_ten_number_of_prods_bought:\n",
    "        num_appearance = top_ten_number_of_prods_bought.count(i)\n",
    "        uid = list(uid_and_noProdsBought.keys())[list(uid_and_noProdsBought.values()).index(i)]\n",
    "        if num_appearance > 1:\n",
    "            uid_and_noProdsBought.pop(uid)\n",
    "        numProducts_uid[i].append(uid)\n",
    "    return numProducts_uid"
   ]
  },
  {
   "cell_type": "code",
   "execution_count": 92,
   "metadata": {},
   "outputs": [
    {
     "name": "stdout",
     "output_type": "stream",
     "text": [
      "Category = Portable Audio & Video\n",
      "\tNumber of products =   11 \t UserIDs: [18111]\n",
      "\tNumber of products =   10 \t UserIDs: [3939, 28782, 39772]\n",
      "\tNumber of products =    9 \t UserIDs: [46878]\n",
      "\tNumber of products =    8 \t UserIDs: [28777, 73163, 80476]\n",
      "\tNumber of products =    7 \t UserIDs: [16528, 18202]\n",
      "Category = Computers & Accessories\n",
      "\tNumber of products =   13 \t UserIDs: [24045]\n",
      "\tNumber of products =   11 \t UserIDs: [8200, 8629, 27769, 30677, 80476]\n",
      "\tNumber of products =    9 \t UserIDs: [18111, 18193, 22606, 37749]\n",
      "Category = Headphones\n",
      "\tNumber of products =   21 \t UserIDs: [142967]\n",
      "\tNumber of products =   19 \t UserIDs: [30661]\n",
      "\tNumber of products =   17 \t UserIDs: [179602, 247264]\n",
      "\tNumber of products =   16 \t UserIDs: [165869]\n",
      "\tNumber of products =   14 \t UserIDs: [3054, 89185]\n",
      "\tNumber of products =   12 \t UserIDs: [16528, 37749]\n",
      "\tNumber of products =   11 \t UserIDs: [3939]\n",
      "Category = Camera & Photo\n",
      "\tNumber of products =   16 \t UserIDs: [7605]\n",
      "\tNumber of products =   12 \t UserIDs: [11581]\n",
      "\tNumber of products =   11 \t UserIDs: [158]\n",
      "\tNumber of products =   10 \t UserIDs: [1277, 632581]\n",
      "\tNumber of products =    9 \t UserIDs: [13292, 22606, 42390, 45406, 81501]\n",
      "Category = Television & Video\n",
      "\tNumber of products =    5 \t UserIDs: [639461]\n",
      "\tNumber of products =    4 \t UserIDs: [506977, 732806]\n",
      "\tNumber of products =    3 \t UserIDs: [27769, 31671, 92517, 152233, 173994, 346874, 404477]\n",
      "Category = Home Audio\n",
      "\tNumber of products =    3 \t UserIDs: [220003]\n",
      "\tNumber of products =    2 \t UserIDs: [2839, 3581, 3939, 6316, 8637, 14984, 22916, 26984, 27769]\n",
      "Category = Accessories & Supplies\n",
      "\tNumber of products =    5 \t UserIDs: [24045, 125637]\n",
      "\tNumber of products =    4 \t UserIDs: [8610, 68555, 71378, 80476, 89185, 89187, 99948, 104923]\n",
      "Category = Car Electronics & GPS\n",
      "\tNumber of products =    4 \t UserIDs: [142967, 913192]\n",
      "\tNumber of products =    3 \t UserIDs: [6165, 17077, 24846, 24893, 30086, 31258, 46878, 57535]\n",
      "Category = Security & Surveillance\n",
      "\tNumber of products =    3 \t UserIDs: [358128, 365773, 479910]\n",
      "\tNumber of products =    2 \t UserIDs: [10874, 13746, 25314, 39416, 55578, 68257, 68438]\n",
      "Category = Wearable Technology\n",
      "\tNumber of products =    4 \t UserIDs: [702380]\n",
      "\tNumber of products =    3 \t UserIDs: [125153, 468905, 493981, 827188, 857005]\n",
      "\tNumber of products =    2 \t UserIDs: [40343, 68647, 198326, 283544]\n"
     ]
    }
   ],
   "source": [
    "top_ten = []\n",
    "for cat in categories:\n",
    "    prod_bought_in_a_category = df[df['category'] == cat]\n",
    "    # print(prod_bought_in_a_category)\n",
    "    prod_bought_in_a_category_groupByUserID = prod_bought_in_a_category.groupby('user_id')\n",
    "\n",
    "    uid_and_noProdsBought = dict()\n",
    "    for uid in prod_bought_in_a_category_groupByUserID.groups.keys():\n",
    "        uid_and_noProdsBought[uid] = len(prod_bought_in_a_category_groupByUserID.get_group(uid))\n",
    "\n",
    "    top_ten_number_of_prods_bought = heapq.nlargest(10, uid_and_noProdsBought.values())\n",
    "    result = find_userID_for_top_products_sold(uid_and_noProdsBought, top_ten_number_of_prods_bought)\n",
    "    print(f'Category = {cat}')\n",
    "    for k,v in result.items():\n",
    "        print(f'\\tNumber of products = {k:>4} \\t UserIDs: {v}')"
   ]
  },
  {
   "cell_type": "markdown",
   "metadata": {},
   "source": [
    "### Insights\n",
    "\n",
    "In every category, multiple users can buy the same number of products. The utility function `find_userID_for_top_products_sold` accounts for this and returns a dictionary mapping the number of products sold to lists of user IDs who bought that number of products"
   ]
  },
  {
   "cell_type": "markdown",
   "metadata": {},
   "source": [
    "## Brands"
   ]
  },
  {
   "cell_type": "code",
   "execution_count": 93,
   "metadata": {},
   "outputs": [],
   "source": [
    "brands = df[~df['brand'].isna()]['brand'].unique()"
   ]
  },
  {
   "cell_type": "code",
   "execution_count": 94,
   "metadata": {},
   "outputs": [
    {
     "data": {
      "text/plain": [
       "array(['HP', 'Philips', 'Polaroid', 'Panasonic', 'JVC', 'Fujifilm',\n",
       "       'Nikon', 'Kodak', 'Sony', 'Canon', 'Kensington', 'Pyle', 'Olympus',\n",
       "       'Toshiba', 'Logitech', 'Etre Jeune', 'Linksys', 'Vivitar',\n",
       "       'Sennheiser', 'Apple', 'Samsung', 'EldHus', 'Bose', 'Archos',\n",
       "       'Garmin', 'Jabra', 'Gary Fong', 'ViewSonic', 'Savage', 'Uniden',\n",
       "       'ebasy', 'Generic', 'JLAB', 'Skullcandy', 'TaoTronics', 'Neewer',\n",
       "       'Koolertron', 'DURAGADGET', 'iRULU', 'Tiamat', 'DBPOWER', 'Fintie',\n",
       "       'Plemo', 'EINCAR', 'Cooper Cases', 'LSS', 'Mpow', 'XShields',\n",
       "       'IRULU', 'Funlux'], dtype=object)"
      ]
     },
     "execution_count": 94,
     "metadata": {},
     "output_type": "execute_result"
    }
   ],
   "source": [
    "brands"
   ]
  },
  {
   "cell_type": "code",
   "execution_count": 95,
   "metadata": {},
   "outputs": [
    {
     "name": "stdout",
     "output_type": "stream",
     "text": [
      "50\n"
     ]
    }
   ],
   "source": [
    "print(len(brands))"
   ]
  },
  {
   "cell_type": "markdown",
   "metadata": {},
   "source": [
    "## Brands - Categories"
   ]
  },
  {
   "cell_type": "code",
   "execution_count": 96,
   "metadata": {},
   "outputs": [],
   "source": [
    "brands_categories = df[['brand', 'category']]"
   ]
  },
  {
   "cell_type": "code",
   "execution_count": 97,
   "metadata": {},
   "outputs": [],
   "source": [
    "brands_categories = brands_categories[~brands_categories['brand'].isna()]"
   ]
  },
  {
   "cell_type": "code",
   "execution_count": 98,
   "metadata": {},
   "outputs": [
    {
     "data": {
      "text/html": [
       "<div>\n",
       "<style scoped>\n",
       "    .dataframe tbody tr th:only-of-type {\n",
       "        vertical-align: middle;\n",
       "    }\n",
       "\n",
       "    .dataframe tbody tr th {\n",
       "        vertical-align: top;\n",
       "    }\n",
       "\n",
       "    .dataframe thead th {\n",
       "        text-align: right;\n",
       "    }\n",
       "</style>\n",
       "<table border=\"1\" class=\"dataframe\">\n",
       "  <thead>\n",
       "    <tr style=\"text-align: right;\">\n",
       "      <th></th>\n",
       "      <th>brand</th>\n",
       "      <th>category</th>\n",
       "    </tr>\n",
       "  </thead>\n",
       "  <tbody>\n",
       "    <tr>\n",
       "      <th>14</th>\n",
       "      <td>HP</td>\n",
       "      <td>Computers &amp; Accessories</td>\n",
       "    </tr>\n",
       "    <tr>\n",
       "      <th>42</th>\n",
       "      <td>HP</td>\n",
       "      <td>Computers &amp; Accessories</td>\n",
       "    </tr>\n",
       "    <tr>\n",
       "      <th>75</th>\n",
       "      <td>HP</td>\n",
       "      <td>Computers &amp; Accessories</td>\n",
       "    </tr>\n",
       "    <tr>\n",
       "      <th>76</th>\n",
       "      <td>HP</td>\n",
       "      <td>Computers &amp; Accessories</td>\n",
       "    </tr>\n",
       "    <tr>\n",
       "      <th>77</th>\n",
       "      <td>HP</td>\n",
       "      <td>Computers &amp; Accessories</td>\n",
       "    </tr>\n",
       "    <tr>\n",
       "      <th>...</th>\n",
       "      <td>...</td>\n",
       "      <td>...</td>\n",
       "    </tr>\n",
       "    <tr>\n",
       "      <th>1292934</th>\n",
       "      <td>ebasy</td>\n",
       "      <td>Computers &amp; Accessories</td>\n",
       "    </tr>\n",
       "    <tr>\n",
       "      <th>1292942</th>\n",
       "      <td>ebasy</td>\n",
       "      <td>Computers &amp; Accessories</td>\n",
       "    </tr>\n",
       "    <tr>\n",
       "      <th>1292945</th>\n",
       "      <td>ebasy</td>\n",
       "      <td>Computers &amp; Accessories</td>\n",
       "    </tr>\n",
       "    <tr>\n",
       "      <th>1292949</th>\n",
       "      <td>Etre Jeune</td>\n",
       "      <td>Headphones</td>\n",
       "    </tr>\n",
       "    <tr>\n",
       "      <th>1292953</th>\n",
       "      <td>Etre Jeune</td>\n",
       "      <td>Headphones</td>\n",
       "    </tr>\n",
       "  </tbody>\n",
       "</table>\n",
       "<p>331120 rows × 2 columns</p>\n",
       "</div>"
      ],
      "text/plain": [
       "              brand                 category\n",
       "14               HP  Computers & Accessories\n",
       "42               HP  Computers & Accessories\n",
       "75               HP  Computers & Accessories\n",
       "76               HP  Computers & Accessories\n",
       "77               HP  Computers & Accessories\n",
       "...             ...                      ...\n",
       "1292934       ebasy  Computers & Accessories\n",
       "1292942       ebasy  Computers & Accessories\n",
       "1292945       ebasy  Computers & Accessories\n",
       "1292949  Etre Jeune               Headphones\n",
       "1292953  Etre Jeune               Headphones\n",
       "\n",
       "[331120 rows x 2 columns]"
      ]
     },
     "execution_count": 98,
     "metadata": {},
     "output_type": "execute_result"
    }
   ],
   "source": [
    "brands_categories"
   ]
  },
  {
   "cell_type": "markdown",
   "metadata": {},
   "source": [
    "### **Question:** which categories a brand's products belong to?"
   ]
  },
  {
   "cell_type": "code",
   "execution_count": 99,
   "metadata": {},
   "outputs": [],
   "source": [
    "brand = 'HP'"
   ]
  },
  {
   "cell_type": "code",
   "execution_count": 100,
   "metadata": {},
   "outputs": [],
   "source": [
    "categories_OI = brands_categories[brands_categories['brand']==brand]"
   ]
  },
  {
   "cell_type": "code",
   "execution_count": 101,
   "metadata": {},
   "outputs": [
    {
     "data": {
      "text/html": [
       "<div>\n",
       "<style scoped>\n",
       "    .dataframe tbody tr th:only-of-type {\n",
       "        vertical-align: middle;\n",
       "    }\n",
       "\n",
       "    .dataframe tbody tr th {\n",
       "        vertical-align: top;\n",
       "    }\n",
       "\n",
       "    .dataframe thead th {\n",
       "        text-align: right;\n",
       "    }\n",
       "</style>\n",
       "<table border=\"1\" class=\"dataframe\">\n",
       "  <thead>\n",
       "    <tr style=\"text-align: right;\">\n",
       "      <th></th>\n",
       "      <th>brand</th>\n",
       "      <th>category</th>\n",
       "    </tr>\n",
       "  </thead>\n",
       "  <tbody>\n",
       "    <tr>\n",
       "      <th>14</th>\n",
       "      <td>HP</td>\n",
       "      <td>Computers &amp; Accessories</td>\n",
       "    </tr>\n",
       "    <tr>\n",
       "      <th>42</th>\n",
       "      <td>HP</td>\n",
       "      <td>Computers &amp; Accessories</td>\n",
       "    </tr>\n",
       "    <tr>\n",
       "      <th>75</th>\n",
       "      <td>HP</td>\n",
       "      <td>Computers &amp; Accessories</td>\n",
       "    </tr>\n",
       "    <tr>\n",
       "      <th>76</th>\n",
       "      <td>HP</td>\n",
       "      <td>Computers &amp; Accessories</td>\n",
       "    </tr>\n",
       "    <tr>\n",
       "      <th>77</th>\n",
       "      <td>HP</td>\n",
       "      <td>Computers &amp; Accessories</td>\n",
       "    </tr>\n",
       "    <tr>\n",
       "      <th>...</th>\n",
       "      <td>...</td>\n",
       "      <td>...</td>\n",
       "    </tr>\n",
       "    <tr>\n",
       "      <th>1291578</th>\n",
       "      <td>HP</td>\n",
       "      <td>Computers &amp; Accessories</td>\n",
       "    </tr>\n",
       "    <tr>\n",
       "      <th>1291700</th>\n",
       "      <td>HP</td>\n",
       "      <td>Computers &amp; Accessories</td>\n",
       "    </tr>\n",
       "    <tr>\n",
       "      <th>1291769</th>\n",
       "      <td>HP</td>\n",
       "      <td>Computers &amp; Accessories</td>\n",
       "    </tr>\n",
       "    <tr>\n",
       "      <th>1291787</th>\n",
       "      <td>HP</td>\n",
       "      <td>Computers &amp; Accessories</td>\n",
       "    </tr>\n",
       "    <tr>\n",
       "      <th>1292574</th>\n",
       "      <td>HP</td>\n",
       "      <td>Computers &amp; Accessories</td>\n",
       "    </tr>\n",
       "  </tbody>\n",
       "</table>\n",
       "<p>2140 rows × 2 columns</p>\n",
       "</div>"
      ],
      "text/plain": [
       "        brand                 category\n",
       "14         HP  Computers & Accessories\n",
       "42         HP  Computers & Accessories\n",
       "75         HP  Computers & Accessories\n",
       "76         HP  Computers & Accessories\n",
       "77         HP  Computers & Accessories\n",
       "...       ...                      ...\n",
       "1291578    HP  Computers & Accessories\n",
       "1291700    HP  Computers & Accessories\n",
       "1291769    HP  Computers & Accessories\n",
       "1291787    HP  Computers & Accessories\n",
       "1292574    HP  Computers & Accessories\n",
       "\n",
       "[2140 rows x 2 columns]"
      ]
     },
     "execution_count": 101,
     "metadata": {},
     "output_type": "execute_result"
    }
   ],
   "source": [
    "categories_OI"
   ]
  },
  {
   "cell_type": "code",
   "execution_count": 102,
   "metadata": {},
   "outputs": [],
   "source": [
    "active_categories = categories_OI['category'].unique()"
   ]
  },
  {
   "cell_type": "code",
   "execution_count": 103,
   "metadata": {},
   "outputs": [
    {
     "data": {
      "text/plain": [
       "array(['Computers & Accessories', 'Camera & Photo'], dtype=object)"
      ]
     },
     "execution_count": 103,
     "metadata": {},
     "output_type": "execute_result"
    }
   ],
   "source": [
    "active_categories"
   ]
  },
  {
   "cell_type": "markdown",
   "metadata": {},
   "source": [
    "### Brand-Category Correspondence"
   ]
  },
  {
   "cell_type": "code",
   "execution_count": 104,
   "metadata": {},
   "outputs": [
    {
     "name": "stdout",
     "output_type": "stream",
     "text": [
      "                  HP active in Category: Computers & Accessories, Camera & Photo , \n",
      "\n",
      "             Philips active in Category: Television & Video, Home Audio     , Headphones     , Camera & Photo , Portable Audio & Video, Accessories & Supplies, Computers & Accessories, \n",
      "\n",
      "            Polaroid active in Category: Camera & Photo , Television & Video, Accessories & Supplies, Headphones     , Computers & Accessories, Portable Audio & Video, \n",
      "\n",
      "           Panasonic active in Category: Camera & Photo , Television & Video, Headphones     , Car Electronics & GPS, Portable Audio & Video, \n",
      "\n",
      "                 JVC active in Category: Camera & Photo , Car Electronics & GPS, Television & Video, Accessories & Supplies, Headphones     , \n",
      "\n",
      "            Fujifilm active in Category: Camera & Photo , Computers & Accessories, \n",
      "\n",
      "               Nikon active in Category: Camera & Photo , \n",
      "\n",
      "               Kodak active in Category: Camera & Photo , Computers & Accessories, \n",
      "\n",
      "                Sony active in Category: Camera & Photo , Television & Video, Computers & Accessories, Portable Audio & Video, Home Audio     , Headphones     , Car Electronics & GPS, Accessories & Supplies, Wearable Technology, \n",
      "\n",
      "               Canon active in Category: Camera & Photo , \n",
      "\n",
      "          Kensington active in Category: Camera & Photo , Computers & Accessories, Headphones     , \n",
      "\n",
      "                Pyle active in Category: Portable Audio & Video, Car Electronics & GPS, Home Audio     , Headphones     , Accessories & Supplies, Television & Video, Computers & Accessories, Camera & Photo , \n",
      "\n",
      "             Olympus active in Category: Camera & Photo , \n",
      "\n",
      "             Toshiba active in Category: Computers & Accessories, Television & Video, Camera & Photo , Accessories & Supplies, \n",
      "\n",
      "            Logitech active in Category: Computers & Accessories, Accessories & Supplies, Portable Audio & Video, Headphones     , Home Audio     , \n",
      "\n",
      "          Etre Jeune active in Category: Accessories & Supplies, Headphones     , Computers & Accessories, Camera & Photo , Portable Audio & Video, \n",
      "\n",
      "             Linksys active in Category: Computers & Accessories, Camera & Photo , \n",
      "\n",
      "             Vivitar active in Category: Camera & Photo , Accessories & Supplies, \n",
      "\n",
      "          Sennheiser active in Category: Computers & Accessories, Headphones     , Accessories & Supplies, \n",
      "\n",
      "               Apple active in Category: Computers & Accessories, Portable Audio & Video, Headphones     , \n",
      "\n",
      "             Samsung active in Category: Television & Video, Camera & Photo , Computers & Accessories, Accessories & Supplies, Security & Surveillance, Home Audio     , \n",
      "\n",
      "              EldHus active in Category: Headphones     , Accessories & Supplies, Computers & Accessories, Home Audio     , \n",
      "\n",
      "                Bose active in Category: Home Audio     , Headphones     , Computers & Accessories, Portable Audio & Video, Television & Video, \n",
      "\n",
      "              Archos active in Category: Portable Audio & Video, Accessories & Supplies, Camera & Photo , Computers & Accessories, \n",
      "\n",
      "              Garmin active in Category: Car Electronics & GPS, Wearable Technology, \n",
      "\n",
      "               Jabra active in Category: Computers & Accessories, Headphones     , Accessories & Supplies, Portable Audio & Video, \n",
      "\n",
      "           Gary Fong active in Category: Camera & Photo , \n",
      "\n",
      "           ViewSonic active in Category: Computers & Accessories, Camera & Photo , Television & Video, \n",
      "\n",
      "              Savage active in Category: Camera & Photo , \n",
      "\n",
      "              Uniden active in Category: Portable Audio & Video, Car Electronics & GPS, Security & Surveillance, Camera & Photo , \n",
      "\n",
      "               ebasy active in Category: Headphones     , Accessories & Supplies, Computers & Accessories, \n",
      "\n",
      "             Generic active in Category: Computers & Accessories, Security & Surveillance, Camera & Photo , Portable Audio & Video, Headphones     , Wearable Technology, Accessories & Supplies, \n",
      "\n",
      "                JLAB active in Category: Headphones     , Portable Audio & Video, \n",
      "\n",
      "          Skullcandy active in Category: Headphones     , Portable Audio & Video, \n",
      "\n",
      "          TaoTronics active in Category: Headphones     , Computers & Accessories, Portable Audio & Video, Home Audio     , \n",
      "\n",
      "              Neewer active in Category: Camera & Photo , Headphones     , Security & Surveillance, \n",
      "\n",
      "          Koolertron active in Category: Car Electronics & GPS, Computers & Accessories, Camera & Photo , Television & Video, \n",
      "\n",
      "          DURAGADGET active in Category: Computers & Accessories, Camera & Photo , Headphones     , \n",
      "\n",
      "               iRULU active in Category: Computers & Accessories, \n",
      "\n",
      "              Tiamat active in Category: Headphones     , \n",
      "\n",
      "             DBPOWER active in Category: Television & Video, Computers & Accessories, Portable Audio & Video, Car Electronics & GPS, Camera & Photo , \n",
      "\n",
      "              Fintie active in Category: Computers & Accessories, Accessories & Supplies, Camera & Photo , Home Audio     , \n",
      "\n",
      "               Plemo active in Category: Computers & Accessories, \n",
      "\n",
      "              EINCAR active in Category: Car Electronics & GPS, Portable Audio & Video, \n",
      "\n",
      "        Cooper Cases active in Category: Computers & Accessories, \n",
      "\n",
      "                 LSS active in Category: Computers & Accessories, \n",
      "\n",
      "                Mpow active in Category: Headphones     , Portable Audio & Video, Car Electronics & GPS, Accessories & Supplies, Camera & Photo , \n",
      "\n",
      "            XShields active in Category: Computers & Accessories, \n",
      "\n",
      "               IRULU active in Category: Computers & Accessories, \n",
      "\n",
      "              Funlux active in Category: Security & Surveillance, Camera & Photo , \n",
      "\n"
     ]
    }
   ],
   "source": [
    "for brand in brands:\n",
    "    categories_OI = brands_categories[brands_categories['brand']==brand]\n",
    "    active_categories = categories_OI['category'].unique()\n",
    "    print('{:>20} active in Category: '.format(brand), end='')\n",
    "    [print('{:<15}, '.format(cat), end='') for cat in active_categories]\n",
    "    print('\\n')"
   ]
  },
  {
   "cell_type": "markdown",
   "metadata": {},
   "source": [
    "### **Question:** which category has the highest market competition?"
   ]
  },
  {
   "cell_type": "code",
   "execution_count": 105,
   "metadata": {},
   "outputs": [
    {
     "data": {
      "text/plain": [
       "array(['Portable Audio & Video', 'Computers & Accessories', 'Headphones',\n",
       "       'Camera & Photo', 'Television & Video', 'Home Audio',\n",
       "       'Accessories & Supplies', 'Car Electronics & GPS',\n",
       "       'Security & Surveillance', 'Wearable Technology'], dtype=object)"
      ]
     },
     "execution_count": 105,
     "metadata": {},
     "output_type": "execute_result"
    }
   ],
   "source": [
    "categories"
   ]
  },
  {
   "cell_type": "code",
   "execution_count": 106,
   "metadata": {},
   "outputs": [],
   "source": [
    "# Count brands in each category\n",
    "max_no_brands = 0\n",
    "cat_OI = ''\n",
    "for cat in categories:\n",
    "    print('Category: {:<20}'.format(cat))\n",
    "    brands_OI = brands_categories[brands_categories['category']==cat]['brand'].unique()\n",
    "\n",
    "\n",
    "    print(f'\\t\\t Num brands: {len(brands_OI)}')\n",
    "\n",
    "    if (len(brands_OI)>max_no_brands):\n",
    "        max_no_brands = len(brands_OI)    \n",
    "        cat_OI = cat"
   ]
  },
  {
   "cell_type": "code",
   "execution_count": 108,
   "metadata": {},
   "outputs": [
    {
     "name": "stdout",
     "output_type": "stream",
     "text": [
      "Computers & Accessories is the category with highest no. of brands = 33\n"
     ]
    }
   ],
   "source": [
    "print(f'{cat_OI} is the category with highest no. of brands = {max_no_brands}')"
   ]
  }
 ],
 "metadata": {
  "kernelspec": {
   "display_name": "Python 3",
   "language": "python",
   "name": "python3"
  },
  "language_info": {
   "codemirror_mode": {
    "name": "ipython",
    "version": 3
   },
   "file_extension": ".py",
   "mimetype": "text/x-python",
   "name": "python",
   "nbconvert_exporter": "python",
   "pygments_lexer": "ipython3",
   "version": "3.8.10"
  }
 },
 "nbformat": 4,
 "nbformat_minor": 2
}
